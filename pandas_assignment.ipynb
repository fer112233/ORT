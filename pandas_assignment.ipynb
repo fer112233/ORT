{
 "cells": [
  {
   "cell_type": "markdown",
   "metadata": {
    "collapsed": true,
    "pycharm": {
     "name": "#%% md\n"
    }
   },
   "source": [
    "# Pandas assignment\n",
    "In this assignment, you will complete some functions what will be used in the transversal assignemnt.\n",
    "You will implement some key functions in the ETL (Extract, Transform, Load) process used to prepare the data for the assignment.\n",
    " \n",
    "First, you will define a function the data in the CSV file \"datasets/Online Retail_2.csv\" into a dataframe. The function must load only the columns:\n",
    "- 'InvoiceNo': An invoice number \n",
    "- 'StockCode': The stock code of the product\n",
    "- 'Description': A description of the product\n",
    "- 'Quantity': Quantity in invoice\n",
    "- 'InvoiceDate': Date of invoice \n",
    "- 'UnitPrice': Unitary price of product \n",
    "- 'CustomerID': Identifier of the customer \n",
    "- 'Country': Country of customer"
   ]
  },
  {
   "cell_type": "code",
   "execution_count": 1,
   "outputs": [
    {
     "data": {
      "text/plain": "            Quantity      UnitPrice     CustomerID\ncount  541909.000000  541909.000000  406829.000000\nmean        9.552250       4.611114   15287.690570\nstd       218.081158      96.759853    1713.600303\nmin    -80995.000000  -11062.060000   12346.000000\n25%         1.000000       1.250000   13953.000000\n50%         3.000000       2.080000   15152.000000\n75%        10.000000       4.130000   16791.000000\nmax     80995.000000   38970.000000   18287.000000",
      "text/html": "<div>\n<style scoped>\n    .dataframe tbody tr th:only-of-type {\n        vertical-align: middle;\n    }\n\n    .dataframe tbody tr th {\n        vertical-align: top;\n    }\n\n    .dataframe thead th {\n        text-align: right;\n    }\n</style>\n<table border=\"1\" class=\"dataframe\">\n  <thead>\n    <tr style=\"text-align: right;\">\n      <th></th>\n      <th>Quantity</th>\n      <th>UnitPrice</th>\n      <th>CustomerID</th>\n    </tr>\n  </thead>\n  <tbody>\n    <tr>\n      <th>count</th>\n      <td>541909.000000</td>\n      <td>541909.000000</td>\n      <td>406829.000000</td>\n    </tr>\n    <tr>\n      <th>mean</th>\n      <td>9.552250</td>\n      <td>4.611114</td>\n      <td>15287.690570</td>\n    </tr>\n    <tr>\n      <th>std</th>\n      <td>218.081158</td>\n      <td>96.759853</td>\n      <td>1713.600303</td>\n    </tr>\n    <tr>\n      <th>min</th>\n      <td>-80995.000000</td>\n      <td>-11062.060000</td>\n      <td>12346.000000</td>\n    </tr>\n    <tr>\n      <th>25%</th>\n      <td>1.000000</td>\n      <td>1.250000</td>\n      <td>13953.000000</td>\n    </tr>\n    <tr>\n      <th>50%</th>\n      <td>3.000000</td>\n      <td>2.080000</td>\n      <td>15152.000000</td>\n    </tr>\n    <tr>\n      <th>75%</th>\n      <td>10.000000</td>\n      <td>4.130000</td>\n      <td>16791.000000</td>\n    </tr>\n    <tr>\n      <th>max</th>\n      <td>80995.000000</td>\n      <td>38970.000000</td>\n      <td>18287.000000</td>\n    </tr>\n  </tbody>\n</table>\n</div>"
     },
     "execution_count": 1,
     "metadata": {},
     "output_type": "execute_result"
    }
   ],
   "source": [
    "import pandas as pd\n",
    "import numpy as np\n",
    "import matplotlib\n",
    "from IPython import display\n",
    "path_to_csv = 'Online Retail_2.csv'\n",
    "\n",
    "def read_file():\n",
    "    \"\"\"\n",
    "    Reads the e-commerce dataset in Datasets/Online Retail.csv and loads it into a data frame.\n",
    "\n",
    "    Args:\n",
    "        None\n",
    "\n",
    "    Returns: Pandas dataframe containing data\n",
    "    \"\"\"\n",
    "    # Write your code here\n",
    "\n",
    "    return pd.read_csv(path_to_csv, usecols=['InvoiceNo', 'StockCode', 'Description', 'Quantity', 'InvoiceDate', 'UnitPrice', 'CustomerID', 'Country'])\n",
    "\n",
    "ecommerce_data = read_file()\n",
    "ecommerce_data.describe()"
   ],
   "metadata": {
    "collapsed": false,
    "pycharm": {
     "name": "#%%\n"
    }
   }
  },
  {
   "cell_type": "markdown",
   "source": [
    "Next, you will filter out rows that do not correspond to actual invoices, but returns or purchases. To do so, you will build a **query** that keeps only values where the column quantity is greater than zero.\n"
   ],
   "metadata": {
    "collapsed": false
   }
  },
  {
   "cell_type": "code",
   "execution_count": 2,
   "outputs": [
    {
     "data": {
      "text/plain": "            Quantity      UnitPrice     CustomerID\ncount  531285.000000  531285.000000  397924.000000\nmean       10.655262       3.857296   15294.315171\nstd       156.830323      41.810047    1713.169877\nmin         1.000000  -11062.060000   12346.000000\n25%         1.000000       1.250000   13969.000000\n50%         3.000000       2.080000   15159.000000\n75%        10.000000       4.130000   16795.000000\nmax     80995.000000   13541.330000   18287.000000",
      "text/html": "<div>\n<style scoped>\n    .dataframe tbody tr th:only-of-type {\n        vertical-align: middle;\n    }\n\n    .dataframe tbody tr th {\n        vertical-align: top;\n    }\n\n    .dataframe thead th {\n        text-align: right;\n    }\n</style>\n<table border=\"1\" class=\"dataframe\">\n  <thead>\n    <tr style=\"text-align: right;\">\n      <th></th>\n      <th>Quantity</th>\n      <th>UnitPrice</th>\n      <th>CustomerID</th>\n    </tr>\n  </thead>\n  <tbody>\n    <tr>\n      <th>count</th>\n      <td>531285.000000</td>\n      <td>531285.000000</td>\n      <td>397924.000000</td>\n    </tr>\n    <tr>\n      <th>mean</th>\n      <td>10.655262</td>\n      <td>3.857296</td>\n      <td>15294.315171</td>\n    </tr>\n    <tr>\n      <th>std</th>\n      <td>156.830323</td>\n      <td>41.810047</td>\n      <td>1713.169877</td>\n    </tr>\n    <tr>\n      <th>min</th>\n      <td>1.000000</td>\n      <td>-11062.060000</td>\n      <td>12346.000000</td>\n    </tr>\n    <tr>\n      <th>25%</th>\n      <td>1.000000</td>\n      <td>1.250000</td>\n      <td>13969.000000</td>\n    </tr>\n    <tr>\n      <th>50%</th>\n      <td>3.000000</td>\n      <td>2.080000</td>\n      <td>15159.000000</td>\n    </tr>\n    <tr>\n      <th>75%</th>\n      <td>10.000000</td>\n      <td>4.130000</td>\n      <td>16795.000000</td>\n    </tr>\n    <tr>\n      <th>max</th>\n      <td>80995.000000</td>\n      <td>13541.330000</td>\n      <td>18287.000000</td>\n    </tr>\n  </tbody>\n</table>\n</div>"
     },
     "execution_count": 2,
     "metadata": {},
     "output_type": "execute_result"
    }
   ],
   "source": [
    "def get_demand(ec):\n",
    "    \"\"\"\n",
    "    Reads the quantity and returns indexes where the value is greater than 0\n",
    "\n",
    "    Args:\n",
    "        ec - A Pandas Dataframe containing e-commerce records.\n",
    "\n",
    "    Returns: a dataframe with the production site identifier\n",
    "    \"\"\"\n",
    "    # Write your code here\n",
    "    return ec.query('Quantity > 0')\n",
    "\n",
    "ecommerce_data = get_demand(ecommerce_data)\n",
    "ecommerce_data.describe()"
   ],
   "metadata": {
    "collapsed": false,
    "pycharm": {
     "name": "#%%\n"
    }
   }
  },
  {
   "cell_type": "markdown",
   "source": [
    "Now, we are going to create a product code, just by keeping the first number of the stock code. \n",
    "You need to create a new column named 'product_type' with the first character of the column 'StockCode'.\n",
    "You will then filter any stock code that does not start by a number using the str function **contains**."
   ],
   "metadata": {
    "collapsed": false,
    "pycharm": {
     "name": "#%% md\n"
    }
   }
  },
  {
   "cell_type": "code",
   "source": [
    "def get_product_type(ec):\n",
    "    \"\"\"\n",
    "    Reads the Stock Code and returns the first character of the string.\n",
    "    This first character is used to identify the product type\n",
    "\n",
    "    Args:\n",
    "        ec - A Pandas Dataframe containing e-commerce records.\n",
    "\n",
    "    Returns: a dataframe with the production site identifier\n",
    "    \"\"\"\n",
    "    # Add a new column labeled 'Product type with the first character of the stock code\n",
    "    ec['product_type'] = ec['StockCode'].str[0]\n",
    "\n",
    "    # Filter values that do not start with a digit\n",
    "    # Write your code here\n",
    "\n",
    "    # 1st Option, was slower than doing a series.str.contains with regex.\n",
    "    # return ec[pd.to_numeric(ec.product_type, errors='coerce').notnull()]\n",
    "    return ec[ec['product_type'].str.contains(r'[0-9]', regex=True)]\n",
    "\n",
    "\n",
    "ecommerce_data = get_product_type(ecommerce_data)\n",
    "ecommerce_data.describe()"
   ],
   "metadata": {
    "collapsed": false,
    "pycharm": {
     "name": "#%%\n"
    }
   },
   "execution_count": 3,
   "outputs": [
    {
     "data": {
      "text/plain": "            Quantity      UnitPrice     CustomerID\ncount  528886.000000  528886.000000  396370.000000\nmean       10.673415       3.258152   15301.602071\nstd       157.128259       4.375777    1709.982593\nmin         1.000000       0.000000   12346.000000\n25%         1.000000       1.250000   13975.000000\n50%         3.000000       2.080000   15159.000000\n75%        11.000000       4.130000   16803.000000\nmax     80995.000000     649.500000   18287.000000",
      "text/html": "<div>\n<style scoped>\n    .dataframe tbody tr th:only-of-type {\n        vertical-align: middle;\n    }\n\n    .dataframe tbody tr th {\n        vertical-align: top;\n    }\n\n    .dataframe thead th {\n        text-align: right;\n    }\n</style>\n<table border=\"1\" class=\"dataframe\">\n  <thead>\n    <tr style=\"text-align: right;\">\n      <th></th>\n      <th>Quantity</th>\n      <th>UnitPrice</th>\n      <th>CustomerID</th>\n    </tr>\n  </thead>\n  <tbody>\n    <tr>\n      <th>count</th>\n      <td>528886.000000</td>\n      <td>528886.000000</td>\n      <td>396370.000000</td>\n    </tr>\n    <tr>\n      <th>mean</th>\n      <td>10.673415</td>\n      <td>3.258152</td>\n      <td>15301.602071</td>\n    </tr>\n    <tr>\n      <th>std</th>\n      <td>157.128259</td>\n      <td>4.375777</td>\n      <td>1709.982593</td>\n    </tr>\n    <tr>\n      <th>min</th>\n      <td>1.000000</td>\n      <td>0.000000</td>\n      <td>12346.000000</td>\n    </tr>\n    <tr>\n      <th>25%</th>\n      <td>1.000000</td>\n      <td>1.250000</td>\n      <td>13975.000000</td>\n    </tr>\n    <tr>\n      <th>50%</th>\n      <td>3.000000</td>\n      <td>2.080000</td>\n      <td>15159.000000</td>\n    </tr>\n    <tr>\n      <th>75%</th>\n      <td>11.000000</td>\n      <td>4.130000</td>\n      <td>16803.000000</td>\n    </tr>\n    <tr>\n      <th>max</th>\n      <td>80995.000000</td>\n      <td>649.500000</td>\n      <td>18287.000000</td>\n    </tr>\n  </tbody>\n</table>\n</div>"
     },
     "execution_count": 3,
     "metadata": {},
     "output_type": "execute_result"
    }
   ]
  },
  {
   "cell_type": "markdown",
   "source": [
    "Now that our data is ready, we will answer some questions.\n",
    "First, add a new column named 'revenue' as the product of the quantity and the unit price."
   ],
   "metadata": {
    "collapsed": false
   }
  },
  {
   "cell_type": "code",
   "execution_count": 4,
   "outputs": [
    {
     "data": {
      "text/plain": "            Quantity      UnitPrice     CustomerID        Revenue\ncount  528886.000000  528886.000000  396370.000000  528886.000000\nmean       10.673415       3.258152   15301.602071      19.420129\nstd       157.128259       4.375777    1709.982593     268.320619\nmin         1.000000       0.000000   12346.000000       0.000000\n25%         1.000000       1.250000   13975.000000       3.750000\n50%         3.000000       2.080000   15159.000000       9.900000\n75%        11.000000       4.130000   16803.000000      17.400000\nmax     80995.000000     649.500000   18287.000000  168469.600000",
      "text/html": "<div>\n<style scoped>\n    .dataframe tbody tr th:only-of-type {\n        vertical-align: middle;\n    }\n\n    .dataframe tbody tr th {\n        vertical-align: top;\n    }\n\n    .dataframe thead th {\n        text-align: right;\n    }\n</style>\n<table border=\"1\" class=\"dataframe\">\n  <thead>\n    <tr style=\"text-align: right;\">\n      <th></th>\n      <th>Quantity</th>\n      <th>UnitPrice</th>\n      <th>CustomerID</th>\n      <th>Revenue</th>\n    </tr>\n  </thead>\n  <tbody>\n    <tr>\n      <th>count</th>\n      <td>528886.000000</td>\n      <td>528886.000000</td>\n      <td>396370.000000</td>\n      <td>528886.000000</td>\n    </tr>\n    <tr>\n      <th>mean</th>\n      <td>10.673415</td>\n      <td>3.258152</td>\n      <td>15301.602071</td>\n      <td>19.420129</td>\n    </tr>\n    <tr>\n      <th>std</th>\n      <td>157.128259</td>\n      <td>4.375777</td>\n      <td>1709.982593</td>\n      <td>268.320619</td>\n    </tr>\n    <tr>\n      <th>min</th>\n      <td>1.000000</td>\n      <td>0.000000</td>\n      <td>12346.000000</td>\n      <td>0.000000</td>\n    </tr>\n    <tr>\n      <th>25%</th>\n      <td>1.000000</td>\n      <td>1.250000</td>\n      <td>13975.000000</td>\n      <td>3.750000</td>\n    </tr>\n    <tr>\n      <th>50%</th>\n      <td>3.000000</td>\n      <td>2.080000</td>\n      <td>15159.000000</td>\n      <td>9.900000</td>\n    </tr>\n    <tr>\n      <th>75%</th>\n      <td>11.000000</td>\n      <td>4.130000</td>\n      <td>16803.000000</td>\n      <td>17.400000</td>\n    </tr>\n    <tr>\n      <th>max</th>\n      <td>80995.000000</td>\n      <td>649.500000</td>\n      <td>18287.000000</td>\n      <td>168469.600000</td>\n    </tr>\n  </tbody>\n</table>\n</div>"
     },
     "execution_count": 4,
     "metadata": {},
     "output_type": "execute_result"
    }
   ],
   "source": [
    "ecommerce_data[\"Revenue\"] = ecommerce_data[\"Quantity\"] * ecommerce_data[\"UnitPrice\"]\n",
    "    # Write your code here\n",
    "ecommerce_data.describe()"
   ],
   "metadata": {
    "collapsed": false,
    "pycharm": {
     "name": "#%%\n"
    }
   }
  },
  {
   "cell_type": "markdown",
   "source": [
    "Now, answer the following questions using Pandas. \n",
    "What is the product type that generates the highest revenue?\n",
    "Create a pivot table with index  'Country', column 'product' that shows the accumulated revenue per country and product type\n"
   ],
   "metadata": {
    "collapsed": false
   }
  },
  {
   "cell_type": "code",
   "source": [
    "# Write your code here\n",
    "pd.pivot_table(ecommerce_data,index=[\"Country\"], columns=[\"product_type\"], values=[\"Revenue\"], aggfunc=[np.sum], fill_value=\"0\")"
   ],
   "metadata": {
    "collapsed": false,
    "pycharm": {
     "name": "#%% \n"
    }
   },
   "execution_count": 18,
   "outputs": [
    {
     "data": {
      "text/plain": "                          sum                                                  \\\n                      Revenue                                                   \nproduct_type                1           2        3        4        5        6   \nCountry                                                                         \nAustralia              596.35   130955.77    311.4   2712.8        0        0   \nAustria                593.76     7257.64   117.38   283.95        0        0   \nBahrain                     0      402.90     49.2        0        0        0   \nBelgium                191.86    33618.66   195.27    373.3        0        0   \nBrazil                  53.55     1069.65        0        0        0        0   \nCanada                    127     1946.49   584.37    18.72        0        0   \nChannel Islands          10.5    16685.95    40.56   932.55        0        0   \nCyprus                 462.27    10654.61   283.35     92.6     4.68        0   \nCzech Republic              0      562.10        0    56.88        0        0   \nDenmark                 96.06    16349.65   154.56    126.9     9.36        0   \nEIRE                  2579.78   235630.56  2005.56  5109.53   129.24        0   \nEuropean Community          0      999.85        0        0        0        0   \nFinland                220.05    10936.35   252.39   559.32        0        0   \nFrance                 2474.6   166033.56   394.78  2725.77    39.12     11.7   \nGermany               4551.53   180535.12     1839  3484.38    88.44     23.4   \nGreece                   3.36     3452.26     34.8    690.6        0        0   \nHong Kong                5.88     8326.91       15    103.1        0        0   \nIceland                  16.8     3399.35        0     88.5     10.2        0   \nIsrael                 113.91     7609.20        0   152.55        0        0   \nItaly                   73.08    13732.51   132.48   339.72   305.28        0   \nJapan                    0.85    34315.67        0   1103.9        0        0   \nLebanon                     0     1368.68     12.6    69.75        0        0   \nLithuania               142.8     1439.06        0        0        0        0   \nMalta                       0     1494.07    84.28        0        0        0   \nNetherlands             86.36   262097.46  1181.28  1262.19        0        0   \nNorway                 608.98    26482.17      282   344.14        0        0   \nPoland                 254.05     5580.13   536.82     65.7        0        0   \nPortugal               123.76    23564.54   640.44    375.6    10.35        0   \nRSA                         0      862.56        0    68.25        0        0   \nSaudi Arabia                0      145.92        0        0        0        0   \nSingapore                   0     7937.39   107.28   390.48        0        0   \nSpain                  205.81    39051.98   693.05   914.37    39.12     30.6   \nSweden                 603.06    32438.64     9.36    263.7   102.96        0   \nSwitzerland            393.37    45555.82   463.11  1459.83        0        0   \nUSA                      10.5     3137.36    87.43    91.15        0        0   \nUnited Arab Emirates        0     1527.88        0     81.3        0        0   \nUnited Kingdom         112025  6972819.48  55932.7   322200  5652.74  6049.26   \nUnspecified             80.12     4088.53     3.15   168.09        0        0   \n\n                                                     \n                                                     \nproduct_type                7            8        9  \nCountry                                              \nAustralia              279.02      3315.97        0  \nAustria                 32.01       442.94       15  \nBahrain                282.24         19.8        0  \nBelgium                196.81      2231.29   120.15  \nBrazil                      0         20.4        0  \nCanada                  39.66        399.2        0  \nChannel Islands          20.4      2317.48        0  \nCyprus                 129.92      1627.26        0  \nCzech Republic              0       167.76        0  \nDenmark                  80.4      1394.41        0  \nEIRE                  3090.77      21673.6   945.25  \nEuropean Community         51        108.4        0  \nFinland                128.22      6225.55       23  \nFrance                 571.31      12186.7   145.25  \nGermany                422.08      13877.4   748.55  \nGreece                 135.84       108.66        0  \nHong Kong               22.41      1479.69        0  \nIceland                    39       756.15        0  \nIsrael                      0       257.05     2.55  \nItaly                  172.45      1064.72        0  \nJapan                       0      1995.95        0  \nLebanon                     0       242.85        0  \nLithuania                   0         79.2        0  \nMalta                  249.75       242.49        0  \nNetherlands             30.24      19201.8       30  \nNorway                 217.46      4519.89        0  \nPoland                      0       537.95        0  \nPortugal               126.75      2138.32     35.4  \nRSA                         0         71.5        0  \nSaudi Arabia                0            0        0  \nSingapore                  90       595.24        0  \nSpain                  939.58      13808.9    41.75  \nSweden                  13.05      3408.56        0  \nSwitzerland            358.36      4829.51     27.9  \nUSA                      20.4       233.55        0  \nUnited Arab Emirates        0        255.6        0  \nUnited Kingdom         159102  1.08322e+06  30158.7  \nUnspecified              32.9          377        0  ",
      "text/html": "<div>\n<style scoped>\n    .dataframe tbody tr th:only-of-type {\n        vertical-align: middle;\n    }\n\n    .dataframe tbody tr th {\n        vertical-align: top;\n    }\n\n    .dataframe thead tr th {\n        text-align: left;\n    }\n\n    .dataframe thead tr:last-of-type th {\n        text-align: right;\n    }\n</style>\n<table border=\"1\" class=\"dataframe\">\n  <thead>\n    <tr>\n      <th></th>\n      <th colspan=\"9\" halign=\"left\">sum</th>\n    </tr>\n    <tr>\n      <th></th>\n      <th colspan=\"9\" halign=\"left\">Revenue</th>\n    </tr>\n    <tr>\n      <th>product_type</th>\n      <th>1</th>\n      <th>2</th>\n      <th>3</th>\n      <th>4</th>\n      <th>5</th>\n      <th>6</th>\n      <th>7</th>\n      <th>8</th>\n      <th>9</th>\n    </tr>\n    <tr>\n      <th>Country</th>\n      <th></th>\n      <th></th>\n      <th></th>\n      <th></th>\n      <th></th>\n      <th></th>\n      <th></th>\n      <th></th>\n      <th></th>\n    </tr>\n  </thead>\n  <tbody>\n    <tr>\n      <th>Australia</th>\n      <td>596.35</td>\n      <td>130955.77</td>\n      <td>311.4</td>\n      <td>2712.8</td>\n      <td>0</td>\n      <td>0</td>\n      <td>279.02</td>\n      <td>3315.97</td>\n      <td>0</td>\n    </tr>\n    <tr>\n      <th>Austria</th>\n      <td>593.76</td>\n      <td>7257.64</td>\n      <td>117.38</td>\n      <td>283.95</td>\n      <td>0</td>\n      <td>0</td>\n      <td>32.01</td>\n      <td>442.94</td>\n      <td>15</td>\n    </tr>\n    <tr>\n      <th>Bahrain</th>\n      <td>0</td>\n      <td>402.90</td>\n      <td>49.2</td>\n      <td>0</td>\n      <td>0</td>\n      <td>0</td>\n      <td>282.24</td>\n      <td>19.8</td>\n      <td>0</td>\n    </tr>\n    <tr>\n      <th>Belgium</th>\n      <td>191.86</td>\n      <td>33618.66</td>\n      <td>195.27</td>\n      <td>373.3</td>\n      <td>0</td>\n      <td>0</td>\n      <td>196.81</td>\n      <td>2231.29</td>\n      <td>120.15</td>\n    </tr>\n    <tr>\n      <th>Brazil</th>\n      <td>53.55</td>\n      <td>1069.65</td>\n      <td>0</td>\n      <td>0</td>\n      <td>0</td>\n      <td>0</td>\n      <td>0</td>\n      <td>20.4</td>\n      <td>0</td>\n    </tr>\n    <tr>\n      <th>Canada</th>\n      <td>127</td>\n      <td>1946.49</td>\n      <td>584.37</td>\n      <td>18.72</td>\n      <td>0</td>\n      <td>0</td>\n      <td>39.66</td>\n      <td>399.2</td>\n      <td>0</td>\n    </tr>\n    <tr>\n      <th>Channel Islands</th>\n      <td>10.5</td>\n      <td>16685.95</td>\n      <td>40.56</td>\n      <td>932.55</td>\n      <td>0</td>\n      <td>0</td>\n      <td>20.4</td>\n      <td>2317.48</td>\n      <td>0</td>\n    </tr>\n    <tr>\n      <th>Cyprus</th>\n      <td>462.27</td>\n      <td>10654.61</td>\n      <td>283.35</td>\n      <td>92.6</td>\n      <td>4.68</td>\n      <td>0</td>\n      <td>129.92</td>\n      <td>1627.26</td>\n      <td>0</td>\n    </tr>\n    <tr>\n      <th>Czech Republic</th>\n      <td>0</td>\n      <td>562.10</td>\n      <td>0</td>\n      <td>56.88</td>\n      <td>0</td>\n      <td>0</td>\n      <td>0</td>\n      <td>167.76</td>\n      <td>0</td>\n    </tr>\n    <tr>\n      <th>Denmark</th>\n      <td>96.06</td>\n      <td>16349.65</td>\n      <td>154.56</td>\n      <td>126.9</td>\n      <td>9.36</td>\n      <td>0</td>\n      <td>80.4</td>\n      <td>1394.41</td>\n      <td>0</td>\n    </tr>\n    <tr>\n      <th>EIRE</th>\n      <td>2579.78</td>\n      <td>235630.56</td>\n      <td>2005.56</td>\n      <td>5109.53</td>\n      <td>129.24</td>\n      <td>0</td>\n      <td>3090.77</td>\n      <td>21673.6</td>\n      <td>945.25</td>\n    </tr>\n    <tr>\n      <th>European Community</th>\n      <td>0</td>\n      <td>999.85</td>\n      <td>0</td>\n      <td>0</td>\n      <td>0</td>\n      <td>0</td>\n      <td>51</td>\n      <td>108.4</td>\n      <td>0</td>\n    </tr>\n    <tr>\n      <th>Finland</th>\n      <td>220.05</td>\n      <td>10936.35</td>\n      <td>252.39</td>\n      <td>559.32</td>\n      <td>0</td>\n      <td>0</td>\n      <td>128.22</td>\n      <td>6225.55</td>\n      <td>23</td>\n    </tr>\n    <tr>\n      <th>France</th>\n      <td>2474.6</td>\n      <td>166033.56</td>\n      <td>394.78</td>\n      <td>2725.77</td>\n      <td>39.12</td>\n      <td>11.7</td>\n      <td>571.31</td>\n      <td>12186.7</td>\n      <td>145.25</td>\n    </tr>\n    <tr>\n      <th>Germany</th>\n      <td>4551.53</td>\n      <td>180535.12</td>\n      <td>1839</td>\n      <td>3484.38</td>\n      <td>88.44</td>\n      <td>23.4</td>\n      <td>422.08</td>\n      <td>13877.4</td>\n      <td>748.55</td>\n    </tr>\n    <tr>\n      <th>Greece</th>\n      <td>3.36</td>\n      <td>3452.26</td>\n      <td>34.8</td>\n      <td>690.6</td>\n      <td>0</td>\n      <td>0</td>\n      <td>135.84</td>\n      <td>108.66</td>\n      <td>0</td>\n    </tr>\n    <tr>\n      <th>Hong Kong</th>\n      <td>5.88</td>\n      <td>8326.91</td>\n      <td>15</td>\n      <td>103.1</td>\n      <td>0</td>\n      <td>0</td>\n      <td>22.41</td>\n      <td>1479.69</td>\n      <td>0</td>\n    </tr>\n    <tr>\n      <th>Iceland</th>\n      <td>16.8</td>\n      <td>3399.35</td>\n      <td>0</td>\n      <td>88.5</td>\n      <td>10.2</td>\n      <td>0</td>\n      <td>39</td>\n      <td>756.15</td>\n      <td>0</td>\n    </tr>\n    <tr>\n      <th>Israel</th>\n      <td>113.91</td>\n      <td>7609.20</td>\n      <td>0</td>\n      <td>152.55</td>\n      <td>0</td>\n      <td>0</td>\n      <td>0</td>\n      <td>257.05</td>\n      <td>2.55</td>\n    </tr>\n    <tr>\n      <th>Italy</th>\n      <td>73.08</td>\n      <td>13732.51</td>\n      <td>132.48</td>\n      <td>339.72</td>\n      <td>305.28</td>\n      <td>0</td>\n      <td>172.45</td>\n      <td>1064.72</td>\n      <td>0</td>\n    </tr>\n    <tr>\n      <th>Japan</th>\n      <td>0.85</td>\n      <td>34315.67</td>\n      <td>0</td>\n      <td>1103.9</td>\n      <td>0</td>\n      <td>0</td>\n      <td>0</td>\n      <td>1995.95</td>\n      <td>0</td>\n    </tr>\n    <tr>\n      <th>Lebanon</th>\n      <td>0</td>\n      <td>1368.68</td>\n      <td>12.6</td>\n      <td>69.75</td>\n      <td>0</td>\n      <td>0</td>\n      <td>0</td>\n      <td>242.85</td>\n      <td>0</td>\n    </tr>\n    <tr>\n      <th>Lithuania</th>\n      <td>142.8</td>\n      <td>1439.06</td>\n      <td>0</td>\n      <td>0</td>\n      <td>0</td>\n      <td>0</td>\n      <td>0</td>\n      <td>79.2</td>\n      <td>0</td>\n    </tr>\n    <tr>\n      <th>Malta</th>\n      <td>0</td>\n      <td>1494.07</td>\n      <td>84.28</td>\n      <td>0</td>\n      <td>0</td>\n      <td>0</td>\n      <td>249.75</td>\n      <td>242.49</td>\n      <td>0</td>\n    </tr>\n    <tr>\n      <th>Netherlands</th>\n      <td>86.36</td>\n      <td>262097.46</td>\n      <td>1181.28</td>\n      <td>1262.19</td>\n      <td>0</td>\n      <td>0</td>\n      <td>30.24</td>\n      <td>19201.8</td>\n      <td>30</td>\n    </tr>\n    <tr>\n      <th>Norway</th>\n      <td>608.98</td>\n      <td>26482.17</td>\n      <td>282</td>\n      <td>344.14</td>\n      <td>0</td>\n      <td>0</td>\n      <td>217.46</td>\n      <td>4519.89</td>\n      <td>0</td>\n    </tr>\n    <tr>\n      <th>Poland</th>\n      <td>254.05</td>\n      <td>5580.13</td>\n      <td>536.82</td>\n      <td>65.7</td>\n      <td>0</td>\n      <td>0</td>\n      <td>0</td>\n      <td>537.95</td>\n      <td>0</td>\n    </tr>\n    <tr>\n      <th>Portugal</th>\n      <td>123.76</td>\n      <td>23564.54</td>\n      <td>640.44</td>\n      <td>375.6</td>\n      <td>10.35</td>\n      <td>0</td>\n      <td>126.75</td>\n      <td>2138.32</td>\n      <td>35.4</td>\n    </tr>\n    <tr>\n      <th>RSA</th>\n      <td>0</td>\n      <td>862.56</td>\n      <td>0</td>\n      <td>68.25</td>\n      <td>0</td>\n      <td>0</td>\n      <td>0</td>\n      <td>71.5</td>\n      <td>0</td>\n    </tr>\n    <tr>\n      <th>Saudi Arabia</th>\n      <td>0</td>\n      <td>145.92</td>\n      <td>0</td>\n      <td>0</td>\n      <td>0</td>\n      <td>0</td>\n      <td>0</td>\n      <td>0</td>\n      <td>0</td>\n    </tr>\n    <tr>\n      <th>Singapore</th>\n      <td>0</td>\n      <td>7937.39</td>\n      <td>107.28</td>\n      <td>390.48</td>\n      <td>0</td>\n      <td>0</td>\n      <td>90</td>\n      <td>595.24</td>\n      <td>0</td>\n    </tr>\n    <tr>\n      <th>Spain</th>\n      <td>205.81</td>\n      <td>39051.98</td>\n      <td>693.05</td>\n      <td>914.37</td>\n      <td>39.12</td>\n      <td>30.6</td>\n      <td>939.58</td>\n      <td>13808.9</td>\n      <td>41.75</td>\n    </tr>\n    <tr>\n      <th>Sweden</th>\n      <td>603.06</td>\n      <td>32438.64</td>\n      <td>9.36</td>\n      <td>263.7</td>\n      <td>102.96</td>\n      <td>0</td>\n      <td>13.05</td>\n      <td>3408.56</td>\n      <td>0</td>\n    </tr>\n    <tr>\n      <th>Switzerland</th>\n      <td>393.37</td>\n      <td>45555.82</td>\n      <td>463.11</td>\n      <td>1459.83</td>\n      <td>0</td>\n      <td>0</td>\n      <td>358.36</td>\n      <td>4829.51</td>\n      <td>27.9</td>\n    </tr>\n    <tr>\n      <th>USA</th>\n      <td>10.5</td>\n      <td>3137.36</td>\n      <td>87.43</td>\n      <td>91.15</td>\n      <td>0</td>\n      <td>0</td>\n      <td>20.4</td>\n      <td>233.55</td>\n      <td>0</td>\n    </tr>\n    <tr>\n      <th>United Arab Emirates</th>\n      <td>0</td>\n      <td>1527.88</td>\n      <td>0</td>\n      <td>81.3</td>\n      <td>0</td>\n      <td>0</td>\n      <td>0</td>\n      <td>255.6</td>\n      <td>0</td>\n    </tr>\n    <tr>\n      <th>United Kingdom</th>\n      <td>112025</td>\n      <td>6972819.48</td>\n      <td>55932.7</td>\n      <td>322200</td>\n      <td>5652.74</td>\n      <td>6049.26</td>\n      <td>159102</td>\n      <td>1.08322e+06</td>\n      <td>30158.7</td>\n    </tr>\n    <tr>\n      <th>Unspecified</th>\n      <td>80.12</td>\n      <td>4088.53</td>\n      <td>3.15</td>\n      <td>168.09</td>\n      <td>0</td>\n      <td>0</td>\n      <td>32.9</td>\n      <td>377</td>\n      <td>0</td>\n    </tr>\n  </tbody>\n</table>\n</div>"
     },
     "execution_count": 18,
     "metadata": {},
     "output_type": "execute_result"
    }
   ]
  },
  {
   "cell_type": "markdown",
   "source": [
    "Now to find the product type with the highest accumulated revenue, we group the data frame by product type and perform a sum operation, we obtain a dataframe with the sum of the revenue.\n",
    "With this data frame, we can make a bar plot to visually see the difference between product types revenues."
   ],
   "metadata": {
    "collapsed": false
   }
  },
  {
   "cell_type": "code",
   "execution_count": 10,
   "outputs": [
    {
     "data": {
      "text/plain": "<AxesSubplot:xlabel='Product type', ylabel='Revenue'>"
     },
     "execution_count": 10,
     "metadata": {},
     "output_type": "execute_result"
    },
    {
     "data": {
      "text/plain": "<Figure size 432x288 with 1 Axes>",
      "image/png": "[encoded data removed]"
     },
     "metadata": {
      "needs_background": "light"
     },
     "output_type": "display_data"
    }
   ],
   "source": [
    "sum_revenue = ecommerce_data.groupby(by=\"product_type\").sum()\n",
    "sum_revenue.plot.bar(y = \"Revenue\", rot=0, xlabel = \"Product type\", ylabel = \"Revenue\", color=[\"violet\"])"
   ],
   "metadata": {
    "collapsed": false,
    "pycharm": {
     "name": "#%%\n"
    }
   }
  },
  {
   "cell_type": "markdown",
   "source": [
    "As we can see in the bar plot, the product type that generates the highest revenue is by far the product category 2.\n",
    "\n",
    "\n"
   ],
   "metadata": {
    "collapsed": false,
    "pycharm": {
     "name": "#%% md\n"
    }
   }
  }
 ],
 "metadata": {
  "kernelspec": {
   "display_name": "Python 3",
   "language": "python",
   "name": "python3"
  },
  "language_info": {
   "codemirror_mode": {
    "name": "ipython",
    "version": 2
   },
   "file_extension": ".py",
   "mimetype": "text/x-python",
   "name": "python",
   "nbconvert_exporter": "python",
   "pygments_lexer": "ipython2",
   "version": "2.7.6"
  }
 },
 "nbformat": 4,
 "nbformat_minor": 0
}
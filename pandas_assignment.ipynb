{
 "cells": [
  {
   "cell_type": "markdown",
   "metadata": {
    "collapsed": true,
    "pycharm": {
     "name": "#%% md\n"
    }
   },
   "source": [
    "# Pandas assignment\n",
    "In this assignment, you will complete some functions what will be used in the transversal assignemnt.\n",
    "You will implement some key functions in the ETL (Extract, Transform, Load) process used to prepare the data for the assignment.\n",
    " \n",
    "First, you will define a function the data in the CSV file \"datasets/Online Retail_2.csv\" into a dataframe. The function must load only the columns:\n",
    "- 'InvoiceNo': An invoice number \n",
    "- 'StockCode': The stock code of the product\n",
    "- 'Description': A description of the product\n",
    "- 'Quantity': Quantity in invoice\n",
    "- 'InvoiceDate': Date of invoice \n",
    "- 'UnitPrice': Unitary price of product \n",
    "- 'CustomerID': Identifier of the customer \n",
    "- 'Country': Country of customer"
   ]
  },
  {
   "cell_type": "code",
   "execution_count": 7,
   "outputs": [
    {
     "data": {
      "text/plain": "            Quantity      UnitPrice     CustomerID\ncount  541909.000000  541909.000000  406829.000000\nmean        9.552250       4.611114   15287.690570\nstd       218.081158      96.759853    1713.600303\nmin    -80995.000000  -11062.060000   12346.000000\n25%         1.000000       1.250000   13953.000000\n50%         3.000000       2.080000   15152.000000\n75%        10.000000       4.130000   16791.000000\nmax     80995.000000   38970.000000   18287.000000",
      "text/html": "<div>\n<style scoped>\n    .dataframe tbody tr th:only-of-type {\n        vertical-align: middle;\n    }\n\n    .dataframe tbody tr th {\n        vertical-align: top;\n    }\n\n    .dataframe thead th {\n        text-align: right;\n    }\n</style>\n<table border=\"1\" class=\"dataframe\">\n  <thead>\n    <tr style=\"text-align: right;\">\n      <th></th>\n      <th>Quantity</th>\n      <th>UnitPrice</th>\n      <th>CustomerID</th>\n    </tr>\n  </thead>\n  <tbody>\n    <tr>\n      <th>count</th>\n      <td>541909.000000</td>\n      <td>541909.000000</td>\n      <td>406829.000000</td>\n    </tr>\n    <tr>\n      <th>mean</th>\n      <td>9.552250</td>\n      <td>4.611114</td>\n      <td>15287.690570</td>\n    </tr>\n    <tr>\n      <th>std</th>\n      <td>218.081158</td>\n      <td>96.759853</td>\n      <td>1713.600303</td>\n    </tr>\n    <tr>\n      <th>min</th>\n      <td>-80995.000000</td>\n      <td>-11062.060000</td>\n      <td>12346.000000</td>\n    </tr>\n    <tr>\n      <th>25%</th>\n      <td>1.000000</td>\n      <td>1.250000</td>\n      <td>13953.000000</td>\n    </tr>\n    <tr>\n      <th>50%</th>\n      <td>3.000000</td>\n      <td>2.080000</td>\n      <td>15152.000000</td>\n    </tr>\n    <tr>\n      <th>75%</th>\n      <td>10.000000</td>\n      <td>4.130000</td>\n      <td>16791.000000</td>\n    </tr>\n    <tr>\n      <th>max</th>\n      <td>80995.000000</td>\n      <td>38970.000000</td>\n      <td>18287.000000</td>\n    </tr>\n  </tbody>\n</table>\n</div>"
     },
     "execution_count": 7,
     "metadata": {},
     "output_type": "execute_result"
    }
   ],
   "source": [
    "import pandas as pd\n",
    "import numpy as np\n",
    "from IPython import display\n",
    "path_to_csv = 'Online Retail_2.csv'\n",
    "\n",
    "def read_file():\n",
    "    \"\"\"\n",
    "    Reads the e-commerce dataset in Datasets/Online Retail.csv and loads it into a data frame.\n",
    "\n",
    "    Args:\n",
    "        None\n",
    "\n",
    "    Returns: Pandas dataframe containing data\n",
    "    \"\"\"\n",
    "    # Write your code here\n",
    "\n",
    "    return pd.read_csv(path_to_csv, usecols=['InvoiceNo', 'StockCode', 'Description', 'Quantity', 'InvoiceDate', 'UnitPrice', 'CustomerID', 'Country'])\n",
    "\n",
    "ecommerce_data = read_file()\n",
    "ecommerce_data.describe()"
   ],
   "metadata": {
    "collapsed": false,
    "pycharm": {
     "name": "#%%\n"
    }
   }
  },
  {
   "cell_type": "markdown",
   "source": [
    "Next, you will filter out rows that do not correspond to actual invoices, but returns or purchases. To do so, you will build a **query** that keeps only values where the column quantity is greater than zero.\n"
   ],
   "metadata": {
    "collapsed": false
   }
  },
  {
   "cell_type": "code",
   "execution_count": 8,
   "outputs": [
    {
     "data": {
      "text/plain": "            Quantity      UnitPrice     CustomerID\ncount  531285.000000  531285.000000  397924.000000\nmean       10.655262       3.857296   15294.315171\nstd       156.830323      41.810047    1713.169877\nmin         1.000000  -11062.060000   12346.000000\n25%         1.000000       1.250000   13969.000000\n50%         3.000000       2.080000   15159.000000\n75%        10.000000       4.130000   16795.000000\nmax     80995.000000   13541.330000   18287.000000",
      "text/html": "<div>\n<style scoped>\n    .dataframe tbody tr th:only-of-type {\n        vertical-align: middle;\n    }\n\n    .dataframe tbody tr th {\n        vertical-align: top;\n    }\n\n    .dataframe thead th {\n        text-align: right;\n    }\n</style>\n<table border=\"1\" class=\"dataframe\">\n  <thead>\n    <tr style=\"text-align: right;\">\n      <th></th>\n      <th>Quantity</th>\n      <th>UnitPrice</th>\n      <th>CustomerID</th>\n    </tr>\n  </thead>\n  <tbody>\n    <tr>\n      <th>count</th>\n      <td>531285.000000</td>\n      <td>531285.000000</td>\n      <td>397924.000000</td>\n    </tr>\n    <tr>\n      <th>mean</th>\n      <td>10.655262</td>\n      <td>3.857296</td>\n      <td>15294.315171</td>\n    </tr>\n    <tr>\n      <th>std</th>\n      <td>156.830323</td>\n      <td>41.810047</td>\n      <td>1713.169877</td>\n    </tr>\n    <tr>\n      <th>min</th>\n      <td>1.000000</td>\n      <td>-11062.060000</td>\n      <td>12346.000000</td>\n    </tr>\n    <tr>\n      <th>25%</th>\n      <td>1.000000</td>\n      <td>1.250000</td>\n      <td>13969.000000</td>\n    </tr>\n    <tr>\n      <th>50%</th>\n      <td>3.000000</td>\n      <td>2.080000</td>\n      <td>15159.000000</td>\n    </tr>\n    <tr>\n      <th>75%</th>\n      <td>10.000000</td>\n      <td>4.130000</td>\n      <td>16795.000000</td>\n    </tr>\n    <tr>\n      <th>max</th>\n      <td>80995.000000</td>\n      <td>13541.330000</td>\n      <td>18287.000000</td>\n    </tr>\n  </tbody>\n</table>\n</div>"
     },
     "execution_count": 8,
     "metadata": {},
     "output_type": "execute_result"
    }
   ],
   "source": [
    "def get_demand(ec):\n",
    "    \"\"\"\n",
    "    Reads the quantity and returns indexes where the value is greater than 0\n",
    "\n",
    "    Args:\n",
    "        ec - A Pandas Dataframe containing e-commerce records.\n",
    "\n",
    "    Returns: a dataframe with the production site identifier\n",
    "    \"\"\"\n",
    "    # Write your code here\n",
    "    return ec.query('Quantity > 0')\n",
    "\n",
    "ecommerce_data = get_demand(ecommerce_data)\n",
    "ecommerce_data.describe()"
   ],
   "metadata": {
    "collapsed": false,
    "pycharm": {
     "name": "#%%\n"
    }
   }
  },
  {
   "cell_type": "markdown",
   "source": [
    "Now, we are going to create a product code, just by keeping the first number of the stock code. \n",
    "You need to create a new column named 'product_type' with the first character of the column 'StockCode'.\n",
    "You will then filter any stock code that does not start by a number using the str function **contains**."
   ],
   "metadata": {
    "collapsed": false,
    "pycharm": {
     "name": "#%% md\n"
    }
   }
  },
  {
   "cell_type": "code",
   "source": [
    "def get_product_type(ec):\n",
    "    \"\"\"\n",
    "    Reads the Stock Code and returns the first character of the string.\n",
    "    This first character is used to identify the product type\n",
    "\n",
    "    Args:\n",
    "        ec - A Pandas Dataframe containing e-commerce records.\n",
    "\n",
    "    Returns: a dataframe with the production site identifier\n",
    "    \"\"\"\n",
    "    # Add a new column labeled 'Product type with the first character of the stock code\n",
    "    ec['product_type'] = ec['StockCode'].str[0]\n",
    "\n",
    "    # Filter values that do not start with a digit\n",
    "    # Write your code here\n",
    "\n",
    "    # 1st Option, was slower than doing a series.str.contains with regex.\n",
    "    # return ec[pd.to_numeric(ec.product_type, errors='coerce').notnull()]\n",
    "    return ec[ec['product_type'].str.contains(r'[0-9]', regex=True)]\n",
    "\n",
    "\n",
    "ecommerce_data = get_product_type(ecommerce_data)\n",
    "ecommerce_data.describe()"
   ],
   "metadata": {
    "collapsed": false,
    "pycharm": {
     "name": "#%%\n"
    }
   },
   "execution_count": 9,
   "outputs": [
    {
     "data": {
      "text/plain": "            Quantity      UnitPrice     CustomerID\ncount  528886.000000  528886.000000  396370.000000\nmean       10.673415       3.258152   15301.602071\nstd       157.128259       4.375777    1709.982593\nmin         1.000000       0.000000   12346.000000\n25%         1.000000       1.250000   13975.000000\n50%         3.000000       2.080000   15159.000000\n75%        11.000000       4.130000   16803.000000\nmax     80995.000000     649.500000   18287.000000",
      "text/html": "<div>\n<style scoped>\n    .dataframe tbody tr th:only-of-type {\n        vertical-align: middle;\n    }\n\n    .dataframe tbody tr th {\n        vertical-align: top;\n    }\n\n    .dataframe thead th {\n        text-align: right;\n    }\n</style>\n<table border=\"1\" class=\"dataframe\">\n  <thead>\n    <tr style=\"text-align: right;\">\n      <th></th>\n      <th>Quantity</th>\n      <th>UnitPrice</th>\n      <th>CustomerID</th>\n    </tr>\n  </thead>\n  <tbody>\n    <tr>\n      <th>count</th>\n      <td>528886.000000</td>\n      <td>528886.000000</td>\n      <td>396370.000000</td>\n    </tr>\n    <tr>\n      <th>mean</th>\n      <td>10.673415</td>\n      <td>3.258152</td>\n      <td>15301.602071</td>\n    </tr>\n    <tr>\n      <th>std</th>\n      <td>157.128259</td>\n      <td>4.375777</td>\n      <td>1709.982593</td>\n    </tr>\n    <tr>\n      <th>min</th>\n      <td>1.000000</td>\n      <td>0.000000</td>\n      <td>12346.000000</td>\n    </tr>\n    <tr>\n      <th>25%</th>\n      <td>1.000000</td>\n      <td>1.250000</td>\n      <td>13975.000000</td>\n    </tr>\n    <tr>\n      <th>50%</th>\n      <td>3.000000</td>\n      <td>2.080000</td>\n      <td>15159.000000</td>\n    </tr>\n    <tr>\n      <th>75%</th>\n      <td>11.000000</td>\n      <td>4.130000</td>\n      <td>16803.000000</td>\n    </tr>\n    <tr>\n      <th>max</th>\n      <td>80995.000000</td>\n      <td>649.500000</td>\n      <td>18287.000000</td>\n    </tr>\n  </tbody>\n</table>\n</div>"
     },
     "execution_count": 9,
     "metadata": {},
     "output_type": "execute_result"
    }
   ]
  },
  {
   "cell_type": "markdown",
   "source": [
    "Now that our data is ready, we will answer some questions.\n",
    "First, add a new column named 'revenue' as the product of the quantity and the unit price."
   ],
   "metadata": {
    "collapsed": false
   }
  },
  {
   "cell_type": "code",
   "execution_count": 10,
   "outputs": [
    {
     "data": {
      "text/plain": "            Quantity      UnitPrice     CustomerID        Revenue\ncount  528886.000000  528886.000000  396370.000000  528886.000000\nmean       10.673415       3.258152   15301.602071      19.420129\nstd       157.128259       4.375777    1709.982593     268.320619\nmin         1.000000       0.000000   12346.000000       0.000000\n25%         1.000000       1.250000   13975.000000       3.750000\n50%         3.000000       2.080000   15159.000000       9.900000\n75%        11.000000       4.130000   16803.000000      17.400000\nmax     80995.000000     649.500000   18287.000000  168469.600000",
      "text/html": "<div>\n<style scoped>\n    .dataframe tbody tr th:only-of-type {\n        vertical-align: middle;\n    }\n\n    .dataframe tbody tr th {\n        vertical-align: top;\n    }\n\n    .dataframe thead th {\n        text-align: right;\n    }\n</style>\n<table border=\"1\" class=\"dataframe\">\n  <thead>\n    <tr style=\"text-align: right;\">\n      <th></th>\n      <th>Quantity</th>\n      <th>UnitPrice</th>\n      <th>CustomerID</th>\n      <th>Revenue</th>\n    </tr>\n  </thead>\n  <tbody>\n    <tr>\n      <th>count</th>\n      <td>528886.000000</td>\n      <td>528886.000000</td>\n      <td>396370.000000</td>\n      <td>528886.000000</td>\n    </tr>\n    <tr>\n      <th>mean</th>\n      <td>10.673415</td>\n      <td>3.258152</td>\n      <td>15301.602071</td>\n      <td>19.420129</td>\n    </tr>\n    <tr>\n      <th>std</th>\n      <td>157.128259</td>\n      <td>4.375777</td>\n      <td>1709.982593</td>\n      <td>268.320619</td>\n    </tr>\n    <tr>\n      <th>min</th>\n      <td>1.000000</td>\n      <td>0.000000</td>\n      <td>12346.000000</td>\n      <td>0.000000</td>\n    </tr>\n    <tr>\n      <th>25%</th>\n      <td>1.000000</td>\n      <td>1.250000</td>\n      <td>13975.000000</td>\n      <td>3.750000</td>\n    </tr>\n    <tr>\n      <th>50%</th>\n      <td>3.000000</td>\n      <td>2.080000</td>\n      <td>15159.000000</td>\n      <td>9.900000</td>\n    </tr>\n    <tr>\n      <th>75%</th>\n      <td>11.000000</td>\n      <td>4.130000</td>\n      <td>16803.000000</td>\n      <td>17.400000</td>\n    </tr>\n    <tr>\n      <th>max</th>\n      <td>80995.000000</td>\n      <td>649.500000</td>\n      <td>18287.000000</td>\n      <td>168469.600000</td>\n    </tr>\n  </tbody>\n</table>\n</div>"
     },
     "execution_count": 10,
     "metadata": {},
     "output_type": "execute_result"
    }
   ],
   "source": [
    "ecommerce_data[\"Revenue\"] = ecommerce_data[\"Quantity\"] * ecommerce_data[\"UnitPrice\"]\n",
    "    # Write your code here\n",
    "ecommerce_data.describe()"
   ],
   "metadata": {
    "collapsed": false,
    "pycharm": {
     "name": "#%%\n"
    }
   }
  },
  {
   "cell_type": "markdown",
   "source": [
    "Now, answer the following questions using Pandas. \n",
    "What is the product type that generates the highest revenue?\n",
    "Create a pivot table with index  'Country', column 'product' that shows the accumulated revenue per country and product type\n"
   ],
   "metadata": {
    "collapsed": false
   }
  },
  {
   "cell_type": "code",
   "source": [
    "# Write your code here\n",
    "pd.pivot_table(ecommerce_data,index=[\"Country\"], columns=[\"product_type\"])\n"
   ],
   "metadata": {
    "collapsed": false,
    "pycharm": {
     "name": "#%% \n"
    }
   },
   "execution_count": 11,
   "outputs": [
    {
     "data": {
      "text/plain": "                        CustomerID                                            \\\nproduct_type                     1             2             3             4   \nCountry                                                                        \nAustralia             12423.000000  12454.670370  12428.714286  12411.133333   \nAustria               12365.000000  12524.698225  12364.000000  12458.375000   \nBahrain                        NaN  12354.800000  12353.000000           NaN   \nBelgium               12388.705882  12429.547344  12408.400000  12385.050000   \nBrazil                12769.000000  12769.000000           NaN           NaN   \nCanada                17444.000000  17387.927928  17443.750000  17444.000000   \nChannel Islands       14442.000000  14889.126761  14931.000000  14935.028571   \nCyprus                12400.857143  12393.870229  12513.250000  12539.222222   \nCzech Republic                 NaN  12781.000000           NaN  12781.000000   \nDenmark               13063.444444  12513.342767  12420.250000  12417.500000   \nEIRE                  14744.468468  14737.895216  14822.714286  14788.357143   \nEuropean Community             NaN  15108.000000           NaN           NaN   \nFinland               12578.545455  12512.838384  12489.357143  12420.812500   \nFrance                12683.738318  12677.930861  12827.666667  12640.647059   \nGermany               12691.883562  12649.445654  12588.357143  12596.344000   \nGreece                17508.000000  13551.090164  17508.000000  14193.000000   \nHong Kong                      NaN           NaN           NaN           NaN   \nIceland               12347.000000  12347.000000           NaN  12347.000000   \nIsrael                12652.800000  12660.276995           NaN  12644.000000   \nItaly                 12553.166667  12639.331790  12454.833333  12528.937500   \nJapan                 12754.000000  12758.525952           NaN  12755.833333   \nLebanon                        NaN  12764.000000  12764.000000  12764.000000   \nLithuania             15332.000000  15332.000000           NaN           NaN   \nMalta                          NaN  16607.040000  17358.400000           NaN   \nNetherlands           13707.250000  14456.455855  13709.166667  14026.444444   \nNorway                12431.625000  12440.621076  12407.000000  12431.875000   \nPoland                12726.941176  12734.282353  12746.947368  12697.800000   \nPortugal              12771.300000  12748.066614  12675.750000  12748.045455   \nRSA                            NaN  12446.000000           NaN  12446.000000   \nSaudi Arabia                   NaN  12565.000000           NaN           NaN   \nSingapore                      NaN  12744.000000  12744.000000  12744.000000   \nSpain                 12532.812500  12941.846039  12789.448980  12728.016949   \nSweden                16212.750000  14800.100515  12638.000000  12666.750000   \nSwitzerland           12752.310345  12651.989096  12750.777778  12888.043478   \nUSA                   12607.000000  12628.331210  12670.000000  12649.000000   \nUnited Arab Emirates           NaN  14524.964912           NaN  17829.000000   \nUnited Kingdom        15450.203723  15556.734168  15366.988402  15555.961001   \nUnspecified           14442.666667  13850.287179  12743.000000  13123.545455   \n\n                                                                              \\\nproduct_type                     5             6             7             8   \nCountry                                                                        \nAustralia                      NaN           NaN  12410.600000  12482.568966   \nAustria                        NaN           NaN  12367.000000  12582.260870   \nBahrain                        NaN           NaN  12355.000000  12355.000000   \nBelgium                        NaN           NaN  12452.909091  12465.024000   \nBrazil                         NaN           NaN           NaN  12769.000000   \nCanada                         NaN           NaN  15902.000000  17150.285714   \nChannel Islands                NaN           NaN  14936.000000  14886.242424   \nCyprus                12391.000000           NaN  12390.000000  12471.400000   \nCzech Republic                 NaN           NaN           NaN  12781.000000   \nDenmark               12412.000000           NaN  12413.666667  12410.766667   \nEIRE                  14326.500000           NaN  14815.278846  14761.568182   \nEuropean Community             NaN           NaN  15108.000000  15108.000000   \nFinland                        NaN           NaN  12525.142857  12526.700000   \nFrance                12553.000000  12579.000000  12646.085714  12721.425061   \nGermany               12566.555556  12544.500000  12565.782609  12661.867424   \nGreece                         NaN           NaN  14439.000000  15112.500000   \nHong Kong                      NaN           NaN           NaN           NaN   \nIceland               12347.000000           NaN  12347.000000  12347.000000   \nIsrael                         NaN           NaN           NaN  12644.000000   \nItaly                 14912.000000           NaN  12675.875000  12596.960784   \nJapan                          NaN           NaN           NaN  12756.880000   \nLebanon                        NaN           NaN           NaN  12764.000000   \nLithuania                      NaN           NaN           NaN  15332.000000   \nMalta                          NaN           NaN  17828.000000  17175.777778   \nNetherlands                    NaN           NaN  14646.000000  14251.681159   \nNorway                         NaN           NaN  12417.400000  12444.083333   \nPoland                         NaN           NaN           NaN  12698.241379   \nPortugal                       NaN           NaN  12778.100000  12719.830000   \nRSA                            NaN           NaN           NaN  12446.000000   \nSaudi Arabia                   NaN           NaN           NaN           NaN   \nSingapore                      NaN           NaN  12744.000000  12744.000000   \nSpain                 12508.000000  12539.000000  13040.235294  12837.522267   \nSweden                15021.000000           NaN  12638.000000  14997.535714   \nSwitzerland                    NaN           NaN  12658.166667  12641.158621   \nUSA                            NaN           NaN  12558.000000  12625.400000   \nUnited Arab Emirates           NaN           NaN           NaN  17829.000000   \nUnited Kingdom        15691.417303  15408.065934  15652.508958  15533.930117   \nUnspecified                    NaN           NaN  13935.333333  13075.366667   \n\n                                      Quantity  ...    Revenue UnitPrice  \\\nproduct_type                     9           1  ...          9         1   \nCountry                                         ...                        \nAustralia                      NaN  257.000000  ...        NaN  1.857500   \nAustria               12865.000000   17.000000  ...  15.000000  4.957500   \nBahrain                        NaN         NaN  ...        NaN       NaN   \nBelgium               12417.000000   24.823529  ...  13.350000  1.341765   \nBrazil                         NaN    3.000000  ...        NaN  5.950000   \nCanada                         NaN   17.000000  ...        NaN  1.367778   \nChannel Islands                NaN   25.000000  ...        NaN  0.420000   \nCyprus                         NaN   18.428571  ...        NaN  2.882857   \nCzech Republic                 NaN         NaN  ...        NaN       NaN   \nDenmark                        NaN   27.444444  ...        NaN  0.442222   \nEIRE                  14911.000000   35.321429  ...  15.003968  2.704107   \nEuropean Community             NaN         NaN  ...        NaN       NaN   \nFinland               12704.000000    9.454545  ...   5.750000  4.805455   \nFrance                12633.777778   24.327103  ...  16.138889  2.778318   \nGermany               12593.652174   33.602740  ...  32.545652  2.156096   \nGreece                         NaN   24.000000  ...        NaN  0.140000   \nHong Kong                      NaN   28.000000  ...        NaN  0.210000   \nIceland                        NaN   30.000000  ...        NaN  0.275000   \nIsrael                12512.000000   21.100000  ...   2.550000  2.553000   \nItaly                          NaN   11.833333  ...        NaN  2.823333   \nJapan                          NaN    1.000000  ...        NaN  0.850000   \nLebanon                        NaN         NaN  ...        NaN       NaN   \nLithuania                      NaN   12.000000  ...        NaN  5.950000   \nMalta                          NaN         NaN  ...        NaN       NaN   \nNetherlands           12778.000000   18.500000  ...  30.000000  3.287500   \nNorway                         NaN   53.708333  ...        NaN  1.388333   \nPoland                         NaN   13.294118  ...        NaN  2.223529   \nPortugal              12783.000000   27.200000  ...  17.700000  0.487000   \nRSA                            NaN         NaN  ...        NaN       NaN   \nSaudi Arabia                   NaN         NaN  ...        NaN       NaN   \nSingapore                      NaN         NaN  ...        NaN       NaN   \nSpain                 12502.000000   15.500000  ...  13.916667  1.966875   \nSweden                         NaN  201.500000  ...        NaN  2.562500   \nSwitzerland           12451.000000   24.206897  ...  13.950000  1.630690   \nUSA                            NaN   25.000000  ...        NaN  0.420000   \nUnited Arab Emirates           NaN         NaN  ...        NaN       NaN   \nUnited Kingdom        15580.979421   24.626008  ...   6.790964  2.315910   \nUnspecified                    NaN   21.200000  ...        NaN  0.886000   \n\n                                                                        \\\nproduct_type                 2         3         4         5         6   \nCountry                                                                  \nAustralia             2.684676  4.621429  5.801000       NaN       NaN   \nAustria               2.813432  5.347500  6.968750       NaN       NaN   \nBahrain               5.020000  4.783333       NaN       NaN       NaN   \nBelgium               3.085439  3.029000  4.040500       NaN       NaN   \nBrazil                4.425000       NaN       NaN       NaN       NaN   \nCanada                2.443063  3.012500  0.390000       NaN       NaN   \nChannel Islands       3.951455  1.690000  7.372857       NaN       NaN   \nCyprus                5.473969  4.708333  5.316667  0.390000       NaN   \nCzech Republic        1.642222       NaN  1.185000       NaN       NaN   \nDenmark               2.707453  1.485000  5.850000  0.390000       NaN   \nEIRE                  3.427344  2.174930  5.422318  0.682727       NaN   \nEuropean Community    4.284906       NaN       NaN       NaN       NaN   \nFinland               2.877434  2.014286  4.208750       NaN       NaN   \nFrance                2.638974  2.125000  4.529080  0.620000  1.950000   \nGermany               2.695787  2.504762  4.560240  0.645556  1.950000   \nGreece                3.698934  1.516667  6.064286       NaN       NaN   \nHong Kong             3.436529  3.750000  1.494286       NaN       NaN   \nIceland               2.793265       NaN  2.450000  0.850000       NaN   \nIsrael                3.855175       NaN  2.058333       NaN       NaN   \nItaly                 3.675540  1.840000  6.136250  0.620000       NaN   \nJapan                 2.021142       NaN  3.816667       NaN       NaN   \nLebanon               5.967353  2.100000  4.650000       NaN       NaN   \nLithuania             2.717419       NaN       NaN       NaN       NaN   \nMalta                 3.804933  5.318000       NaN       NaN       NaN   \nNetherlands           2.476473  1.225000  3.981111       NaN       NaN   \nNorway                3.415437  2.210909  2.699375       NaN       NaN   \nPoland                3.639569  2.998421  1.560000       NaN       NaN   \nPortugal              2.574702  3.434000  3.946364  3.450000       NaN   \nRSA                   4.211400       NaN  5.150000       NaN       NaN   \nSaudi Arabia          2.351111       NaN       NaN       NaN       NaN   \nSingapore             3.785615  1.490000  5.190000       NaN       NaN   \nSpain                 3.245042  2.873878  4.930339  0.543333  2.550000   \nSweden                2.023995  0.390000  4.900000  0.390000       NaN   \nSwitzerland           2.754817  2.855000  5.458936       NaN       NaN   \nUSA                   2.161529  4.285000  4.733333       NaN       NaN   \nUnited Arab Emirates  2.893684       NaN  6.700000       NaN       NaN   \nUnited Kingdom        3.300773  2.527637  5.510397  0.772509  1.773465   \nUnspecified           2.843817  0.815000  2.314000       NaN       NaN   \n\n                                                    \nproduct_type                 7         8         9  \nCountry                                             \nAustralia             1.226000  2.467414       NaN  \nAustria               1.120000  3.137826  3.750000  \nBahrain               4.140000  1.650000       NaN  \nBelgium               0.712273  2.739520  5.761111  \nBrazil                     NaN  0.850000       NaN  \nCanada                0.935000  2.855714       NaN  \nChannel Islands       0.850000  2.408636       NaN  \nCyprus                2.342500  3.051636       NaN  \nCzech Republic             NaN  1.585000       NaN  \nDenmark               1.116667  2.707333       NaN  \nEIRE                  2.553636  2.848586  3.023810  \nEuropean Community    4.250000  3.483333       NaN  \nFinland               3.490000  3.156800  1.000000  \nFrance                1.940000  2.563005  3.588889  \nGermany               2.231304  2.855701  3.567391  \nGreece                8.490000  1.423750       NaN  \nHong Kong             0.920000  3.078077       NaN  \nIceland               3.250000  2.065385       NaN  \nIsrael                     NaN  1.893810  2.550000  \nItaly                 2.450000  4.705490       NaN  \nJapan                      NaN  1.974000       NaN  \nLebanon                    NaN  3.644444       NaN  \nLithuania                  NaN  1.650000       NaN  \nMalta                 2.981818  3.079444       NaN  \nNetherlands           0.420000  1.856377  1.250000  \nNorway                3.236000  2.624062       NaN  \nPoland                     NaN  5.053448       NaN  \nPortugal              1.671000  2.174623  2.950000  \nRSA                        NaN  5.643333       NaN  \nSaudi Arabia               NaN       NaN       NaN  \nSingapore             1.250000  2.594762       NaN  \nSpain                 2.138235  2.820445  4.883333  \nSweden                1.450000  1.321786       NaN  \nSwitzerland           1.546923  2.889937  1.800000  \nUSA                   0.850000  2.713000       NaN  \nUnited Arab Emirates       NaN  1.756250       NaN  \nUnited Kingdom        3.019435  2.969230  3.912231  \nUnspecified           1.095000  2.103333       NaN  \n\n[38 rows x 36 columns]",
      "text/html": "<div>\n<style scoped>\n    .dataframe tbody tr th:only-of-type {\n        vertical-align: middle;\n    }\n\n    .dataframe tbody tr th {\n        vertical-align: top;\n    }\n\n    .dataframe thead tr th {\n        text-align: left;\n    }\n\n    .dataframe thead tr:last-of-type th {\n        text-align: right;\n    }\n</style>\n<table border=\"1\" class=\"dataframe\">\n  <thead>\n    <tr>\n      <th></th>\n      <th colspan=\"9\" halign=\"left\">CustomerID</th>\n      <th>Quantity</th>\n      <th>...</th>\n      <th>Revenue</th>\n      <th colspan=\"9\" halign=\"left\">UnitPrice</th>\n    </tr>\n    <tr>\n      <th>product_type</th>\n      <th>1</th>\n      <th>2</th>\n      <th>3</th>\n      <th>4</th>\n      <th>5</th>\n      <th>6</th>\n      <th>7</th>\n      <th>8</th>\n      <th>9</th>\n      <th>1</th>\n      <th>...</th>\n      <th>9</th>\n      <th>1</th>\n      <th>2</th>\n      <th>3</th>\n      <th>4</th>\n      <th>5</th>\n      <th>6</th>\n      <th>7</th>\n      <th>8</th>\n      <th>9</th>\n    </tr>\n    <tr>\n      <th>Country</th>\n      <th></th>\n      <th></th>\n      <th></th>\n      <th></th>\n      <th></th>\n      <th></th>\n      <th></th>\n      <th></th>\n      <th></th>\n      <th></th>\n      <th></th>\n      <th></th>\n      <th></th>\n      <th></th>\n      <th></th>\n      <th></th>\n      <th></th>\n      <th></th>\n      <th></th>\n      <th></th>\n      <th></th>\n    </tr>\n  </thead>\n  <tbody>\n    <tr>\n      <th>Australia</th>\n      <td>12423.000000</td>\n      <td>12454.670370</td>\n      <td>12428.714286</td>\n      <td>12411.133333</td>\n      <td>NaN</td>\n      <td>NaN</td>\n      <td>12410.600000</td>\n      <td>12482.568966</td>\n      <td>NaN</td>\n      <td>257.000000</td>\n      <td>...</td>\n      <td>NaN</td>\n      <td>1.857500</td>\n      <td>2.684676</td>\n      <td>4.621429</td>\n      <td>5.801000</td>\n      <td>NaN</td>\n      <td>NaN</td>\n      <td>1.226000</td>\n      <td>2.467414</td>\n      <td>NaN</td>\n    </tr>\n    <tr>\n      <th>Austria</th>\n      <td>12365.000000</td>\n      <td>12524.698225</td>\n      <td>12364.000000</td>\n      <td>12458.375000</td>\n      <td>NaN</td>\n      <td>NaN</td>\n      <td>12367.000000</td>\n      <td>12582.260870</td>\n      <td>12865.000000</td>\n      <td>17.000000</td>\n      <td>...</td>\n      <td>15.000000</td>\n      <td>4.957500</td>\n      <td>2.813432</td>\n      <td>5.347500</td>\n      <td>6.968750</td>\n      <td>NaN</td>\n      <td>NaN</td>\n      <td>1.120000</td>\n      <td>3.137826</td>\n      <td>3.750000</td>\n    </tr>\n    <tr>\n      <th>Bahrain</th>\n      <td>NaN</td>\n      <td>12354.800000</td>\n      <td>12353.000000</td>\n      <td>NaN</td>\n      <td>NaN</td>\n      <td>NaN</td>\n      <td>12355.000000</td>\n      <td>12355.000000</td>\n      <td>NaN</td>\n      <td>NaN</td>\n      <td>...</td>\n      <td>NaN</td>\n      <td>NaN</td>\n      <td>5.020000</td>\n      <td>4.783333</td>\n      <td>NaN</td>\n      <td>NaN</td>\n      <td>NaN</td>\n      <td>4.140000</td>\n      <td>1.650000</td>\n      <td>NaN</td>\n    </tr>\n    <tr>\n      <th>Belgium</th>\n      <td>12388.705882</td>\n      <td>12429.547344</td>\n      <td>12408.400000</td>\n      <td>12385.050000</td>\n      <td>NaN</td>\n      <td>NaN</td>\n      <td>12452.909091</td>\n      <td>12465.024000</td>\n      <td>12417.000000</td>\n      <td>24.823529</td>\n      <td>...</td>\n      <td>13.350000</td>\n      <td>1.341765</td>\n      <td>3.085439</td>\n      <td>3.029000</td>\n      <td>4.040500</td>\n      <td>NaN</td>\n      <td>NaN</td>\n      <td>0.712273</td>\n      <td>2.739520</td>\n      <td>5.761111</td>\n    </tr>\n    <tr>\n      <th>Brazil</th>\n      <td>12769.000000</td>\n      <td>12769.000000</td>\n      <td>NaN</td>\n      <td>NaN</td>\n      <td>NaN</td>\n      <td>NaN</td>\n      <td>NaN</td>\n      <td>12769.000000</td>\n      <td>NaN</td>\n      <td>3.000000</td>\n      <td>...</td>\n      <td>NaN</td>\n      <td>5.950000</td>\n      <td>4.425000</td>\n      <td>NaN</td>\n      <td>NaN</td>\n      <td>NaN</td>\n      <td>NaN</td>\n      <td>NaN</td>\n      <td>0.850000</td>\n      <td>NaN</td>\n    </tr>\n    <tr>\n      <th>Canada</th>\n      <td>17444.000000</td>\n      <td>17387.927928</td>\n      <td>17443.750000</td>\n      <td>17444.000000</td>\n      <td>NaN</td>\n      <td>NaN</td>\n      <td>15902.000000</td>\n      <td>17150.285714</td>\n      <td>NaN</td>\n      <td>17.000000</td>\n      <td>...</td>\n      <td>NaN</td>\n      <td>1.367778</td>\n      <td>2.443063</td>\n      <td>3.012500</td>\n      <td>0.390000</td>\n      <td>NaN</td>\n      <td>NaN</td>\n      <td>0.935000</td>\n      <td>2.855714</td>\n      <td>NaN</td>\n    </tr>\n    <tr>\n      <th>Channel Islands</th>\n      <td>14442.000000</td>\n      <td>14889.126761</td>\n      <td>14931.000000</td>\n      <td>14935.028571</td>\n      <td>NaN</td>\n      <td>NaN</td>\n      <td>14936.000000</td>\n      <td>14886.242424</td>\n      <td>NaN</td>\n      <td>25.000000</td>\n      <td>...</td>\n      <td>NaN</td>\n      <td>0.420000</td>\n      <td>3.951455</td>\n      <td>1.690000</td>\n      <td>7.372857</td>\n      <td>NaN</td>\n      <td>NaN</td>\n      <td>0.850000</td>\n      <td>2.408636</td>\n      <td>NaN</td>\n    </tr>\n    <tr>\n      <th>Cyprus</th>\n      <td>12400.857143</td>\n      <td>12393.870229</td>\n      <td>12513.250000</td>\n      <td>12539.222222</td>\n      <td>12391.000000</td>\n      <td>NaN</td>\n      <td>12390.000000</td>\n      <td>12471.400000</td>\n      <td>NaN</td>\n      <td>18.428571</td>\n      <td>...</td>\n      <td>NaN</td>\n      <td>2.882857</td>\n      <td>5.473969</td>\n      <td>4.708333</td>\n      <td>5.316667</td>\n      <td>0.390000</td>\n      <td>NaN</td>\n      <td>2.342500</td>\n      <td>3.051636</td>\n      <td>NaN</td>\n    </tr>\n    <tr>\n      <th>Czech Republic</th>\n      <td>NaN</td>\n      <td>12781.000000</td>\n      <td>NaN</td>\n      <td>12781.000000</td>\n      <td>NaN</td>\n      <td>NaN</td>\n      <td>NaN</td>\n      <td>12781.000000</td>\n      <td>NaN</td>\n      <td>NaN</td>\n      <td>...</td>\n      <td>NaN</td>\n      <td>NaN</td>\n      <td>1.642222</td>\n      <td>NaN</td>\n      <td>1.185000</td>\n      <td>NaN</td>\n      <td>NaN</td>\n      <td>NaN</td>\n      <td>1.585000</td>\n      <td>NaN</td>\n    </tr>\n    <tr>\n      <th>Denmark</th>\n      <td>13063.444444</td>\n      <td>12513.342767</td>\n      <td>12420.250000</td>\n      <td>12417.500000</td>\n      <td>12412.000000</td>\n      <td>NaN</td>\n      <td>12413.666667</td>\n      <td>12410.766667</td>\n      <td>NaN</td>\n      <td>27.444444</td>\n      <td>...</td>\n      <td>NaN</td>\n      <td>0.442222</td>\n      <td>2.707453</td>\n      <td>1.485000</td>\n      <td>5.850000</td>\n      <td>0.390000</td>\n      <td>NaN</td>\n      <td>1.116667</td>\n      <td>2.707333</td>\n      <td>NaN</td>\n    </tr>\n    <tr>\n      <th>EIRE</th>\n      <td>14744.468468</td>\n      <td>14737.895216</td>\n      <td>14822.714286</td>\n      <td>14788.357143</td>\n      <td>14326.500000</td>\n      <td>NaN</td>\n      <td>14815.278846</td>\n      <td>14761.568182</td>\n      <td>14911.000000</td>\n      <td>35.321429</td>\n      <td>...</td>\n      <td>15.003968</td>\n      <td>2.704107</td>\n      <td>3.427344</td>\n      <td>2.174930</td>\n      <td>5.422318</td>\n      <td>0.682727</td>\n      <td>NaN</td>\n      <td>2.553636</td>\n      <td>2.848586</td>\n      <td>3.023810</td>\n    </tr>\n    <tr>\n      <th>European Community</th>\n      <td>NaN</td>\n      <td>15108.000000</td>\n      <td>NaN</td>\n      <td>NaN</td>\n      <td>NaN</td>\n      <td>NaN</td>\n      <td>15108.000000</td>\n      <td>15108.000000</td>\n      <td>NaN</td>\n      <td>NaN</td>\n      <td>...</td>\n      <td>NaN</td>\n      <td>NaN</td>\n      <td>4.284906</td>\n      <td>NaN</td>\n      <td>NaN</td>\n      <td>NaN</td>\n      <td>NaN</td>\n      <td>4.250000</td>\n      <td>3.483333</td>\n      <td>NaN</td>\n    </tr>\n    <tr>\n      <th>Finland</th>\n      <td>12578.545455</td>\n      <td>12512.838384</td>\n      <td>12489.357143</td>\n      <td>12420.812500</td>\n      <td>NaN</td>\n      <td>NaN</td>\n      <td>12525.142857</td>\n      <td>12526.700000</td>\n      <td>12704.000000</td>\n      <td>9.454545</td>\n      <td>...</td>\n      <td>5.750000</td>\n      <td>4.805455</td>\n      <td>2.877434</td>\n      <td>2.014286</td>\n      <td>4.208750</td>\n      <td>NaN</td>\n      <td>NaN</td>\n      <td>3.490000</td>\n      <td>3.156800</td>\n      <td>1.000000</td>\n    </tr>\n    <tr>\n      <th>France</th>\n      <td>12683.738318</td>\n      <td>12677.930861</td>\n      <td>12827.666667</td>\n      <td>12640.647059</td>\n      <td>12553.000000</td>\n      <td>12579.000000</td>\n      <td>12646.085714</td>\n      <td>12721.425061</td>\n      <td>12633.777778</td>\n      <td>24.327103</td>\n      <td>...</td>\n      <td>16.138889</td>\n      <td>2.778318</td>\n      <td>2.638974</td>\n      <td>2.125000</td>\n      <td>4.529080</td>\n      <td>0.620000</td>\n      <td>1.950000</td>\n      <td>1.940000</td>\n      <td>2.563005</td>\n      <td>3.588889</td>\n    </tr>\n    <tr>\n      <th>Germany</th>\n      <td>12691.883562</td>\n      <td>12649.445654</td>\n      <td>12588.357143</td>\n      <td>12596.344000</td>\n      <td>12566.555556</td>\n      <td>12544.500000</td>\n      <td>12565.782609</td>\n      <td>12661.867424</td>\n      <td>12593.652174</td>\n      <td>33.602740</td>\n      <td>...</td>\n      <td>32.545652</td>\n      <td>2.156096</td>\n      <td>2.695787</td>\n      <td>2.504762</td>\n      <td>4.560240</td>\n      <td>0.645556</td>\n      <td>1.950000</td>\n      <td>2.231304</td>\n      <td>2.855701</td>\n      <td>3.567391</td>\n    </tr>\n    <tr>\n      <th>Greece</th>\n      <td>17508.000000</td>\n      <td>13551.090164</td>\n      <td>17508.000000</td>\n      <td>14193.000000</td>\n      <td>NaN</td>\n      <td>NaN</td>\n      <td>14439.000000</td>\n      <td>15112.500000</td>\n      <td>NaN</td>\n      <td>24.000000</td>\n      <td>...</td>\n      <td>NaN</td>\n      <td>0.140000</td>\n      <td>3.698934</td>\n      <td>1.516667</td>\n      <td>6.064286</td>\n      <td>NaN</td>\n      <td>NaN</td>\n      <td>8.490000</td>\n      <td>1.423750</td>\n      <td>NaN</td>\n    </tr>\n    <tr>\n      <th>Hong Kong</th>\n      <td>NaN</td>\n      <td>NaN</td>\n      <td>NaN</td>\n      <td>NaN</td>\n      <td>NaN</td>\n      <td>NaN</td>\n      <td>NaN</td>\n      <td>NaN</td>\n      <td>NaN</td>\n      <td>28.000000</td>\n      <td>...</td>\n      <td>NaN</td>\n      <td>0.210000</td>\n      <td>3.436529</td>\n      <td>3.750000</td>\n      <td>1.494286</td>\n      <td>NaN</td>\n      <td>NaN</td>\n      <td>0.920000</td>\n      <td>3.078077</td>\n      <td>NaN</td>\n    </tr>\n    <tr>\n      <th>Iceland</th>\n      <td>12347.000000</td>\n      <td>12347.000000</td>\n      <td>NaN</td>\n      <td>12347.000000</td>\n      <td>12347.000000</td>\n      <td>NaN</td>\n      <td>12347.000000</td>\n      <td>12347.000000</td>\n      <td>NaN</td>\n      <td>30.000000</td>\n      <td>...</td>\n      <td>NaN</td>\n      <td>0.275000</td>\n      <td>2.793265</td>\n      <td>NaN</td>\n      <td>2.450000</td>\n      <td>0.850000</td>\n      <td>NaN</td>\n      <td>3.250000</td>\n      <td>2.065385</td>\n      <td>NaN</td>\n    </tr>\n    <tr>\n      <th>Israel</th>\n      <td>12652.800000</td>\n      <td>12660.276995</td>\n      <td>NaN</td>\n      <td>12644.000000</td>\n      <td>NaN</td>\n      <td>NaN</td>\n      <td>NaN</td>\n      <td>12644.000000</td>\n      <td>12512.000000</td>\n      <td>21.100000</td>\n      <td>...</td>\n      <td>2.550000</td>\n      <td>2.553000</td>\n      <td>3.855175</td>\n      <td>NaN</td>\n      <td>2.058333</td>\n      <td>NaN</td>\n      <td>NaN</td>\n      <td>NaN</td>\n      <td>1.893810</td>\n      <td>2.550000</td>\n    </tr>\n    <tr>\n      <th>Italy</th>\n      <td>12553.166667</td>\n      <td>12639.331790</td>\n      <td>12454.833333</td>\n      <td>12528.937500</td>\n      <td>14912.000000</td>\n      <td>NaN</td>\n      <td>12675.875000</td>\n      <td>12596.960784</td>\n      <td>NaN</td>\n      <td>11.833333</td>\n      <td>...</td>\n      <td>NaN</td>\n      <td>2.823333</td>\n      <td>3.675540</td>\n      <td>1.840000</td>\n      <td>6.136250</td>\n      <td>0.620000</td>\n      <td>NaN</td>\n      <td>2.450000</td>\n      <td>4.705490</td>\n      <td>NaN</td>\n    </tr>\n    <tr>\n      <th>Japan</th>\n      <td>12754.000000</td>\n      <td>12758.525952</td>\n      <td>NaN</td>\n      <td>12755.833333</td>\n      <td>NaN</td>\n      <td>NaN</td>\n      <td>NaN</td>\n      <td>12756.880000</td>\n      <td>NaN</td>\n      <td>1.000000</td>\n      <td>...</td>\n      <td>NaN</td>\n      <td>0.850000</td>\n      <td>2.021142</td>\n      <td>NaN</td>\n      <td>3.816667</td>\n      <td>NaN</td>\n      <td>NaN</td>\n      <td>NaN</td>\n      <td>1.974000</td>\n      <td>NaN</td>\n    </tr>\n    <tr>\n      <th>Lebanon</th>\n      <td>NaN</td>\n      <td>12764.000000</td>\n      <td>12764.000000</td>\n      <td>12764.000000</td>\n      <td>NaN</td>\n      <td>NaN</td>\n      <td>NaN</td>\n      <td>12764.000000</td>\n      <td>NaN</td>\n      <td>NaN</td>\n      <td>...</td>\n      <td>NaN</td>\n      <td>NaN</td>\n      <td>5.967353</td>\n      <td>2.100000</td>\n      <td>4.650000</td>\n      <td>NaN</td>\n      <td>NaN</td>\n      <td>NaN</td>\n      <td>3.644444</td>\n      <td>NaN</td>\n    </tr>\n    <tr>\n      <th>Lithuania</th>\n      <td>15332.000000</td>\n      <td>15332.000000</td>\n      <td>NaN</td>\n      <td>NaN</td>\n      <td>NaN</td>\n      <td>NaN</td>\n      <td>NaN</td>\n      <td>15332.000000</td>\n      <td>NaN</td>\n      <td>12.000000</td>\n      <td>...</td>\n      <td>NaN</td>\n      <td>5.950000</td>\n      <td>2.717419</td>\n      <td>NaN</td>\n      <td>NaN</td>\n      <td>NaN</td>\n      <td>NaN</td>\n      <td>NaN</td>\n      <td>1.650000</td>\n      <td>NaN</td>\n    </tr>\n    <tr>\n      <th>Malta</th>\n      <td>NaN</td>\n      <td>16607.040000</td>\n      <td>17358.400000</td>\n      <td>NaN</td>\n      <td>NaN</td>\n      <td>NaN</td>\n      <td>17828.000000</td>\n      <td>17175.777778</td>\n      <td>NaN</td>\n      <td>NaN</td>\n      <td>...</td>\n      <td>NaN</td>\n      <td>NaN</td>\n      <td>3.804933</td>\n      <td>5.318000</td>\n      <td>NaN</td>\n      <td>NaN</td>\n      <td>NaN</td>\n      <td>2.981818</td>\n      <td>3.079444</td>\n      <td>NaN</td>\n    </tr>\n    <tr>\n      <th>Netherlands</th>\n      <td>13707.250000</td>\n      <td>14456.455855</td>\n      <td>13709.166667</td>\n      <td>14026.444444</td>\n      <td>NaN</td>\n      <td>NaN</td>\n      <td>14646.000000</td>\n      <td>14251.681159</td>\n      <td>12778.000000</td>\n      <td>18.500000</td>\n      <td>...</td>\n      <td>30.000000</td>\n      <td>3.287500</td>\n      <td>2.476473</td>\n      <td>1.225000</td>\n      <td>3.981111</td>\n      <td>NaN</td>\n      <td>NaN</td>\n      <td>0.420000</td>\n      <td>1.856377</td>\n      <td>1.250000</td>\n    </tr>\n    <tr>\n      <th>Norway</th>\n      <td>12431.625000</td>\n      <td>12440.621076</td>\n      <td>12407.000000</td>\n      <td>12431.875000</td>\n      <td>NaN</td>\n      <td>NaN</td>\n      <td>12417.400000</td>\n      <td>12444.083333</td>\n      <td>NaN</td>\n      <td>53.708333</td>\n      <td>...</td>\n      <td>NaN</td>\n      <td>1.388333</td>\n      <td>3.415437</td>\n      <td>2.210909</td>\n      <td>2.699375</td>\n      <td>NaN</td>\n      <td>NaN</td>\n      <td>3.236000</td>\n      <td>2.624062</td>\n      <td>NaN</td>\n    </tr>\n    <tr>\n      <th>Poland</th>\n      <td>12726.941176</td>\n      <td>12734.282353</td>\n      <td>12746.947368</td>\n      <td>12697.800000</td>\n      <td>NaN</td>\n      <td>NaN</td>\n      <td>NaN</td>\n      <td>12698.241379</td>\n      <td>NaN</td>\n      <td>13.294118</td>\n      <td>...</td>\n      <td>NaN</td>\n      <td>2.223529</td>\n      <td>3.639569</td>\n      <td>2.998421</td>\n      <td>1.560000</td>\n      <td>NaN</td>\n      <td>NaN</td>\n      <td>NaN</td>\n      <td>5.053448</td>\n      <td>NaN</td>\n    </tr>\n    <tr>\n      <th>Portugal</th>\n      <td>12771.300000</td>\n      <td>12748.066614</td>\n      <td>12675.750000</td>\n      <td>12748.045455</td>\n      <td>NaN</td>\n      <td>NaN</td>\n      <td>12778.100000</td>\n      <td>12719.830000</td>\n      <td>12783.000000</td>\n      <td>27.200000</td>\n      <td>...</td>\n      <td>17.700000</td>\n      <td>0.487000</td>\n      <td>2.574702</td>\n      <td>3.434000</td>\n      <td>3.946364</td>\n      <td>3.450000</td>\n      <td>NaN</td>\n      <td>1.671000</td>\n      <td>2.174623</td>\n      <td>2.950000</td>\n    </tr>\n    <tr>\n      <th>RSA</th>\n      <td>NaN</td>\n      <td>12446.000000</td>\n      <td>NaN</td>\n      <td>12446.000000</td>\n      <td>NaN</td>\n      <td>NaN</td>\n      <td>NaN</td>\n      <td>12446.000000</td>\n      <td>NaN</td>\n      <td>NaN</td>\n      <td>...</td>\n      <td>NaN</td>\n      <td>NaN</td>\n      <td>4.211400</td>\n      <td>NaN</td>\n      <td>5.150000</td>\n      <td>NaN</td>\n      <td>NaN</td>\n      <td>NaN</td>\n      <td>5.643333</td>\n      <td>NaN</td>\n    </tr>\n    <tr>\n      <th>Saudi Arabia</th>\n      <td>NaN</td>\n      <td>12565.000000</td>\n      <td>NaN</td>\n      <td>NaN</td>\n      <td>NaN</td>\n      <td>NaN</td>\n      <td>NaN</td>\n      <td>NaN</td>\n      <td>NaN</td>\n      <td>NaN</td>\n      <td>...</td>\n      <td>NaN</td>\n      <td>NaN</td>\n      <td>2.351111</td>\n      <td>NaN</td>\n      <td>NaN</td>\n      <td>NaN</td>\n      <td>NaN</td>\n      <td>NaN</td>\n      <td>NaN</td>\n      <td>NaN</td>\n    </tr>\n    <tr>\n      <th>Singapore</th>\n      <td>NaN</td>\n      <td>12744.000000</td>\n      <td>12744.000000</td>\n      <td>12744.000000</td>\n      <td>NaN</td>\n      <td>NaN</td>\n      <td>12744.000000</td>\n      <td>12744.000000</td>\n      <td>NaN</td>\n      <td>NaN</td>\n      <td>...</td>\n      <td>NaN</td>\n      <td>NaN</td>\n      <td>3.785615</td>\n      <td>1.490000</td>\n      <td>5.190000</td>\n      <td>NaN</td>\n      <td>NaN</td>\n      <td>1.250000</td>\n      <td>2.594762</td>\n      <td>NaN</td>\n    </tr>\n    <tr>\n      <th>Spain</th>\n      <td>12532.812500</td>\n      <td>12941.846039</td>\n      <td>12789.448980</td>\n      <td>12728.016949</td>\n      <td>12508.000000</td>\n      <td>12539.000000</td>\n      <td>13040.235294</td>\n      <td>12837.522267</td>\n      <td>12502.000000</td>\n      <td>15.500000</td>\n      <td>...</td>\n      <td>13.916667</td>\n      <td>1.966875</td>\n      <td>3.245042</td>\n      <td>2.873878</td>\n      <td>4.930339</td>\n      <td>0.543333</td>\n      <td>2.550000</td>\n      <td>2.138235</td>\n      <td>2.820445</td>\n      <td>4.883333</td>\n    </tr>\n    <tr>\n      <th>Sweden</th>\n      <td>16212.750000</td>\n      <td>14800.100515</td>\n      <td>12638.000000</td>\n      <td>12666.750000</td>\n      <td>15021.000000</td>\n      <td>NaN</td>\n      <td>12638.000000</td>\n      <td>14997.535714</td>\n      <td>NaN</td>\n      <td>201.500000</td>\n      <td>...</td>\n      <td>NaN</td>\n      <td>2.562500</td>\n      <td>2.023995</td>\n      <td>0.390000</td>\n      <td>4.900000</td>\n      <td>0.390000</td>\n      <td>NaN</td>\n      <td>1.450000</td>\n      <td>1.321786</td>\n      <td>NaN</td>\n    </tr>\n    <tr>\n      <th>Switzerland</th>\n      <td>12752.310345</td>\n      <td>12651.989096</td>\n      <td>12750.777778</td>\n      <td>12888.043478</td>\n      <td>NaN</td>\n      <td>NaN</td>\n      <td>12658.166667</td>\n      <td>12641.158621</td>\n      <td>12451.000000</td>\n      <td>24.206897</td>\n      <td>...</td>\n      <td>13.950000</td>\n      <td>1.630690</td>\n      <td>2.754817</td>\n      <td>2.855000</td>\n      <td>5.458936</td>\n      <td>NaN</td>\n      <td>NaN</td>\n      <td>1.546923</td>\n      <td>2.889937</td>\n      <td>1.800000</td>\n    </tr>\n    <tr>\n      <th>USA</th>\n      <td>12607.000000</td>\n      <td>12628.331210</td>\n      <td>12670.000000</td>\n      <td>12649.000000</td>\n      <td>NaN</td>\n      <td>NaN</td>\n      <td>12558.000000</td>\n      <td>12625.400000</td>\n      <td>NaN</td>\n      <td>25.000000</td>\n      <td>...</td>\n      <td>NaN</td>\n      <td>0.420000</td>\n      <td>2.161529</td>\n      <td>4.285000</td>\n      <td>4.733333</td>\n      <td>NaN</td>\n      <td>NaN</td>\n      <td>0.850000</td>\n      <td>2.713000</td>\n      <td>NaN</td>\n    </tr>\n    <tr>\n      <th>United Arab Emirates</th>\n      <td>NaN</td>\n      <td>14524.964912</td>\n      <td>NaN</td>\n      <td>17829.000000</td>\n      <td>NaN</td>\n      <td>NaN</td>\n      <td>NaN</td>\n      <td>17829.000000</td>\n      <td>NaN</td>\n      <td>NaN</td>\n      <td>...</td>\n      <td>NaN</td>\n      <td>NaN</td>\n      <td>2.893684</td>\n      <td>NaN</td>\n      <td>6.700000</td>\n      <td>NaN</td>\n      <td>NaN</td>\n      <td>NaN</td>\n      <td>1.756250</td>\n      <td>NaN</td>\n    </tr>\n    <tr>\n      <th>United Kingdom</th>\n      <td>15450.203723</td>\n      <td>15556.734168</td>\n      <td>15366.988402</td>\n      <td>15555.961001</td>\n      <td>15691.417303</td>\n      <td>15408.065934</td>\n      <td>15652.508958</td>\n      <td>15533.930117</td>\n      <td>15580.979421</td>\n      <td>24.626008</td>\n      <td>...</td>\n      <td>6.790964</td>\n      <td>2.315910</td>\n      <td>3.300773</td>\n      <td>2.527637</td>\n      <td>5.510397</td>\n      <td>0.772509</td>\n      <td>1.773465</td>\n      <td>3.019435</td>\n      <td>2.969230</td>\n      <td>3.912231</td>\n    </tr>\n    <tr>\n      <th>Unspecified</th>\n      <td>14442.666667</td>\n      <td>13850.287179</td>\n      <td>12743.000000</td>\n      <td>13123.545455</td>\n      <td>NaN</td>\n      <td>NaN</td>\n      <td>13935.333333</td>\n      <td>13075.366667</td>\n      <td>NaN</td>\n      <td>21.200000</td>\n      <td>...</td>\n      <td>NaN</td>\n      <td>0.886000</td>\n      <td>2.843817</td>\n      <td>0.815000</td>\n      <td>2.314000</td>\n      <td>NaN</td>\n      <td>NaN</td>\n      <td>1.095000</td>\n      <td>2.103333</td>\n      <td>NaN</td>\n    </tr>\n  </tbody>\n</table>\n<p>38 rows × 36 columns</p>\n</div>"
     },
     "execution_count": 11,
     "metadata": {},
     "output_type": "execute_result"
    }
   ]
  }
 ],
 "metadata": {
  "kernelspec": {
   "display_name": "Python 3",
   "language": "python",
   "name": "python3"
  },
  "language_info": {
   "codemirror_mode": {
    "name": "ipython",
    "version": 2
   },
   "file_extension": ".py",
   "mimetype": "text/x-python",
   "name": "python",
   "nbconvert_exporter": "python",
   "pygments_lexer": "ipython2",
   "version": "2.7.6"
  }
 },
 "nbformat": 4,
 "nbformat_minor": 0
}